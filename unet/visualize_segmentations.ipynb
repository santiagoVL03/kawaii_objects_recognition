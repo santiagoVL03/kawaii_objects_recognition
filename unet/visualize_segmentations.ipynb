{
 "cells": [
  {
   "cell_type": "code",
   "execution_count": null,
   "id": "df707c3a",
   "metadata": {},
   "outputs": [],
   "source": [
    "import utils.dataset as dataset\n",
    "import matplotlib.pyplot as plt\n",
    "import numpy as np\n",
    "import os\n",
    "import imageio\n",
    "from PIL import Image"
   ]
  },
  {
   "cell_type": "code",
   "execution_count": null,
   "id": "ed67481a",
   "metadata": {},
   "outputs": [],
   "source": [
    "\"\"\" Load Train Set and view some examples \"\"\"\n",
    "# Call the apt function\n",
    "path1 = '/content/drive/My Drive/U-NET - Implementation/images/original/'\n",
    "path2 = '/content/drive/My Drive/U-NET - Implementation/images/masks/'\n",
    "img, mask = dataset.LoadData (path1, path2)\n",
    "\n",
    "# View an example of image and corresponding mask \n",
    "show_images = 1\n",
    "for i in range(show_images):\n",
    "    img_view  = imageio.imread(path1 + img[i])\n",
    "    mask_view = imageio.imread(path2 + mask[i])\n",
    "    print(img_view.shape)\n",
    "    print(mask_view.shape)\n",
    "    fig, arr = plt.subplots(1, 2, figsize=(15, 15))\n",
    "    arr[0].imshow(img_view)\n",
    "    arr[0].set_title('Image '+ str(i))\n",
    "    arr[1].imshow(mask_view)\n",
    "    arr[1].set_title('Masked Image '+ str(i))"
   ]
  }
 ],
 "metadata": {
  "kernelspec": {
   "display_name": ".venv-1 (3.12.6)",
   "language": "python",
   "name": "python3"
  },
  "language_info": {
   "name": "python",
   "version": "3.12.6"
  }
 },
 "nbformat": 4,
 "nbformat_minor": 5
}
